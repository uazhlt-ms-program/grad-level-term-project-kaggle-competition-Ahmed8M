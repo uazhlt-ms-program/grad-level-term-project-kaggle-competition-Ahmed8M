{
 "cells": [
  {
   "cell_type": "code",
   "execution_count": 3,
   "id": "27a09b4d",
   "metadata": {},
   "outputs": [],
   "source": [
    "NAME = \"Ahmed Alkuraydis\"\n",
    "# University of Arizona email address\n",
    "EMAIL = \"alkuraydsi@arizona.edu\""
   ]
  },
  {
   "cell_type": "code",
   "execution_count": 4,
   "id": "72e83d47",
   "metadata": {},
   "outputs": [],
   "source": [
    "import pandas as pd\n",
    "from sklearn.feature_extraction.text import TfidfVectorizer\n",
    "from sklearn.feature_selection import SelectKBest, chi2\n",
    "from sklearn.linear_model import LogisticRegression\n",
    "from sklearn.model_selection import train_test_split\n",
    "from sklearn.metrics import accuracy_score, f1_score\n",
    "from joblib import dump"
   ]
  },
  {
   "cell_type": "markdown",
   "id": "d8d395ef",
   "metadata": {},
   "source": [
    "# Loading and preprocessing the data"
   ]
  },
  {
   "cell_type": "code",
   "execution_count": 5,
   "id": "d9457739",
   "metadata": {},
   "outputs": [],
   "source": [
    "def load_and_preprocess_data(train_file, test_file):\n",
    "    train_data = pd.read_csv(train_file)\n",
    "    test_data = pd.read_csv(test_file)\n",
    "    train_data['TEXT'] = train_data['TEXT'].fillna('')\n",
    "    test_data['TEXT'] = test_data['TEXT'].fillna('')\n",
    "    return train_data, test_data"
   ]
  },
  {
   "cell_type": "markdown",
   "id": "03ecac3b",
   "metadata": {},
   "source": [
    "# Data extraction and selection"
   ]
  },
  {
   "cell_type": "code",
   "execution_count": 6,
   "id": "3fbd3424",
   "metadata": {},
   "outputs": [],
   "source": [
    "def extract_features(train_data, test_data):\n",
    "    vectorizer = TfidfVectorizer(ngram_range=(1, 3), min_df=5, max_df=0.95, sublinear_tf=True,\n",
    "                                 stop_words='english')\n",
    "    X_train = vectorizer.fit_transform(train_data['TEXT'])\n",
    "    X_test = vectorizer.transform(test_data['TEXT'])\n",
    "    return X_train, X_test, vectorizer\n",
    "\n",
    "def select_features(X_train, X_test, y_train, k=20000):\n",
    "    selector = SelectKBest(chi2, k=k)\n",
    "    X_train = selector.fit_transform(X_train, y_train)\n",
    "    X_test = selector.transform(X_test)\n",
    "    return X_train, X_test, selector"
   ]
  },
  {
   "cell_type": "markdown",
   "id": "18ad9275",
   "metadata": {},
   "source": [
    "# Model training and evaluation"
   ]
  },
  {
   "cell_type": "code",
   "execution_count": 7,
   "id": "e044708e",
   "metadata": {},
   "outputs": [],
   "source": [
    "def train_and_evaluate_model(X_train, y_train):\n",
    "    model = LogisticRegression(C=1.0, multi_class='multinomial', solver='saga', max_iter=1000)\n",
    "    X_train_split, X_val, y_train_split, y_val = train_test_split(X_train, y_train, test_size=0.2, random_state=42)\n",
    "    model.fit(X_train_split, y_train_split)\n",
    "    y_pred_val = model.predict(X_val)\n",
    "    accuracy = accuracy_score(y_val, y_pred_val)\n",
    "    f1 = f1_score(y_val, y_pred_val, average='macro')\n",
    "    print(f\"Validation Accuracy: {accuracy:.4f}\")\n",
    "    print(f\"Validation F1-score: {f1:.4f}\")\n",
    "    return model"
   ]
  },
  {
   "cell_type": "markdown",
   "id": "6b05a339",
   "metadata": {},
   "source": [
    "# Prediction and Results"
   ]
  },
  {
   "cell_type": "code",
   "execution_count": 8,
   "id": "6c6db9d3",
   "metadata": {},
   "outputs": [
    {
     "name": "stderr",
     "output_type": "stream",
     "text": [
      "/home/ahmed/anaconda3/envs/tadriib/lib/python3.11/site-packages/sklearn/utils/validation.py:605: FutureWarning: is_sparse is deprecated and will be removed in a future version. Check `isinstance(dtype, pd.SparseDtype)` instead.\n",
      "  if is_sparse(pd_dtype):\n",
      "/home/ahmed/anaconda3/envs/tadriib/lib/python3.11/site-packages/sklearn/utils/validation.py:614: FutureWarning: is_sparse is deprecated and will be removed in a future version. Check `isinstance(dtype, pd.SparseDtype)` instead.\n",
      "  if is_sparse(pd_dtype) or not is_extension_array_dtype(pd_dtype):\n",
      "/home/ahmed/anaconda3/envs/tadriib/lib/python3.11/site-packages/sklearn/utils/validation.py:605: FutureWarning: is_sparse is deprecated and will be removed in a future version. Check `isinstance(dtype, pd.SparseDtype)` instead.\n",
      "  if is_sparse(pd_dtype):\n",
      "/home/ahmed/anaconda3/envs/tadriib/lib/python3.11/site-packages/sklearn/utils/validation.py:614: FutureWarning: is_sparse is deprecated and will be removed in a future version. Check `isinstance(dtype, pd.SparseDtype)` instead.\n",
      "  if is_sparse(pd_dtype) or not is_extension_array_dtype(pd_dtype):\n",
      "/home/ahmed/anaconda3/envs/tadriib/lib/python3.11/site-packages/sklearn/utils/validation.py:605: FutureWarning: is_sparse is deprecated and will be removed in a future version. Check `isinstance(dtype, pd.SparseDtype)` instead.\n",
      "  if is_sparse(pd_dtype):\n",
      "/home/ahmed/anaconda3/envs/tadriib/lib/python3.11/site-packages/sklearn/utils/validation.py:614: FutureWarning: is_sparse is deprecated and will be removed in a future version. Check `isinstance(dtype, pd.SparseDtype)` instead.\n",
      "  if is_sparse(pd_dtype) or not is_extension_array_dtype(pd_dtype):\n",
      "/home/ahmed/anaconda3/envs/tadriib/lib/python3.11/site-packages/sklearn/utils/validation.py:605: FutureWarning: is_sparse is deprecated and will be removed in a future version. Check `isinstance(dtype, pd.SparseDtype)` instead.\n",
      "  if is_sparse(pd_dtype):\n",
      "/home/ahmed/anaconda3/envs/tadriib/lib/python3.11/site-packages/sklearn/utils/validation.py:614: FutureWarning: is_sparse is deprecated and will be removed in a future version. Check `isinstance(dtype, pd.SparseDtype)` instead.\n",
      "  if is_sparse(pd_dtype) or not is_extension_array_dtype(pd_dtype):\n",
      "/home/ahmed/anaconda3/envs/tadriib/lib/python3.11/site-packages/sklearn/utils/validation.py:605: FutureWarning: is_sparse is deprecated and will be removed in a future version. Check `isinstance(dtype, pd.SparseDtype)` instead.\n",
      "  if is_sparse(pd_dtype):\n",
      "/home/ahmed/anaconda3/envs/tadriib/lib/python3.11/site-packages/sklearn/utils/validation.py:614: FutureWarning: is_sparse is deprecated and will be removed in a future version. Check `isinstance(dtype, pd.SparseDtype)` instead.\n",
      "  if is_sparse(pd_dtype) or not is_extension_array_dtype(pd_dtype):\n",
      "/home/ahmed/anaconda3/envs/tadriib/lib/python3.11/site-packages/sklearn/utils/validation.py:605: FutureWarning: is_sparse is deprecated and will be removed in a future version. Check `isinstance(dtype, pd.SparseDtype)` instead.\n",
      "  if is_sparse(pd_dtype):\n",
      "/home/ahmed/anaconda3/envs/tadriib/lib/python3.11/site-packages/sklearn/utils/validation.py:614: FutureWarning: is_sparse is deprecated and will be removed in a future version. Check `isinstance(dtype, pd.SparseDtype)` instead.\n",
      "  if is_sparse(pd_dtype) or not is_extension_array_dtype(pd_dtype):\n",
      "/home/ahmed/anaconda3/envs/tadriib/lib/python3.11/site-packages/sklearn/utils/validation.py:605: FutureWarning: is_sparse is deprecated and will be removed in a future version. Check `isinstance(dtype, pd.SparseDtype)` instead.\n",
      "  if is_sparse(pd_dtype):\n",
      "/home/ahmed/anaconda3/envs/tadriib/lib/python3.11/site-packages/sklearn/utils/validation.py:614: FutureWarning: is_sparse is deprecated and will be removed in a future version. Check `isinstance(dtype, pd.SparseDtype)` instead.\n",
      "  if is_sparse(pd_dtype) or not is_extension_array_dtype(pd_dtype):\n",
      "/home/ahmed/anaconda3/envs/tadriib/lib/python3.11/site-packages/sklearn/utils/validation.py:605: FutureWarning: is_sparse is deprecated and will be removed in a future version. Check `isinstance(dtype, pd.SparseDtype)` instead.\n",
      "  if is_sparse(pd_dtype):\n",
      "/home/ahmed/anaconda3/envs/tadriib/lib/python3.11/site-packages/sklearn/utils/validation.py:614: FutureWarning: is_sparse is deprecated and will be removed in a future version. Check `isinstance(dtype, pd.SparseDtype)` instead.\n",
      "  if is_sparse(pd_dtype) or not is_extension_array_dtype(pd_dtype):\n",
      "/home/ahmed/anaconda3/envs/tadriib/lib/python3.11/site-packages/sklearn/utils/validation.py:605: FutureWarning: is_sparse is deprecated and will be removed in a future version. Check `isinstance(dtype, pd.SparseDtype)` instead.\n",
      "  if is_sparse(pd_dtype):\n",
      "/home/ahmed/anaconda3/envs/tadriib/lib/python3.11/site-packages/sklearn/utils/validation.py:614: FutureWarning: is_sparse is deprecated and will be removed in a future version. Check `isinstance(dtype, pd.SparseDtype)` instead.\n",
      "  if is_sparse(pd_dtype) or not is_extension_array_dtype(pd_dtype):\n",
      "/home/ahmed/anaconda3/envs/tadriib/lib/python3.11/site-packages/sklearn/utils/validation.py:605: FutureWarning: is_sparse is deprecated and will be removed in a future version. Check `isinstance(dtype, pd.SparseDtype)` instead.\n",
      "  if is_sparse(pd_dtype):\n",
      "/home/ahmed/anaconda3/envs/tadriib/lib/python3.11/site-packages/sklearn/utils/validation.py:614: FutureWarning: is_sparse is deprecated and will be removed in a future version. Check `isinstance(dtype, pd.SparseDtype)` instead.\n",
      "  if is_sparse(pd_dtype) or not is_extension_array_dtype(pd_dtype):\n",
      "/home/ahmed/anaconda3/envs/tadriib/lib/python3.11/site-packages/sklearn/utils/validation.py:605: FutureWarning: is_sparse is deprecated and will be removed in a future version. Check `isinstance(dtype, pd.SparseDtype)` instead.\n",
      "  if is_sparse(pd_dtype):\n",
      "/home/ahmed/anaconda3/envs/tadriib/lib/python3.11/site-packages/sklearn/utils/validation.py:614: FutureWarning: is_sparse is deprecated and will be removed in a future version. Check `isinstance(dtype, pd.SparseDtype)` instead.\n",
      "  if is_sparse(pd_dtype) or not is_extension_array_dtype(pd_dtype):\n",
      "/home/ahmed/anaconda3/envs/tadriib/lib/python3.11/site-packages/sklearn/utils/validation.py:605: FutureWarning: is_sparse is deprecated and will be removed in a future version. Check `isinstance(dtype, pd.SparseDtype)` instead.\n",
      "  if is_sparse(pd_dtype):\n",
      "/home/ahmed/anaconda3/envs/tadriib/lib/python3.11/site-packages/sklearn/utils/validation.py:614: FutureWarning: is_sparse is deprecated and will be removed in a future version. Check `isinstance(dtype, pd.SparseDtype)` instead.\n",
      "  if is_sparse(pd_dtype) or not is_extension_array_dtype(pd_dtype):\n"
     ]
    },
    {
     "name": "stdout",
     "output_type": "stream",
     "text": [
      "Validation Accuracy: 0.9238\n",
      "Validation F1-score: 0.9119\n"
     ]
    }
   ],
   "source": [
    "def predict_and_save_results(model, X_train, y_train, X_test, test_data):\n",
    "    model.fit(X_train, y_train)\n",
    "    y_pred_test = model.predict(X_test)\n",
    "    submission = pd.DataFrame({'ID': test_data['ID'], 'LABEL': y_pred_test})\n",
    "    submission.to_csv('submission.csv', index=False)\n",
    "\n",
    "# Main program\n",
    "train_data, test_data = load_and_preprocess_data('train.csv', 'test.csv')\n",
    "X_train, X_test, vectorizer = extract_features(train_data, test_data)\n",
    "X_train, X_test, selector = select_features(X_train, X_test, train_data['LABEL'])\n",
    "model = train_and_evaluate_model(X_train, train_data['LABEL'])\n",
    "predict_and_save_results(model, X_train, train_data['LABEL'], X_test, test_data)"
   ]
  },
  {
   "cell_type": "markdown",
   "id": "afd7d4a6",
   "metadata": {},
   "source": [
    "# Task\n",
    "The task I'm addressing in this code is a text classification problem where the goal is to classify movie reviews into one of three categories:\n",
    "- Not a movie/TV show review\n",
    "- Positive movie/TV show review\n",
    "- Negative movie/TV show review\n",
    "The provided datasets, which include a training set and a test set, contain text documents that need to be classified into the appropriate categories.\n",
    "\n",
    "# Approach \n",
    "\n",
    "I begin by importing the necessary libraries for the task at hand. These include pandas for data manipulation, scikit-learn's TfidfVectorizer for feature extraction, SelectKBest and chi2 from scikit-learn for feature selection, LogisticRegression for model training, train_test_split for splitting the data into training and validation sets, accuracy_score and f1_score for model evaluation, and dump from joblib for saving the trained model.\n",
    "\n",
    "Next, I define a function called load_and_preprocess_data that takes the file paths of the training and test data as input. This function reads the CSV files using pandas, and fills any missing values in the 'TEXT' column with empty strings. It returns the preprocessed training and test data.\n",
    "\n",
    "I then define two functions for feature extraction and selection. The extract_features function takes the preprocessed training and test data as input and applies the TF-IDF vectorizer to convert the text data into numerical features. It uses n-grams ranging from 1 to 3, a minimum document frequency of 5, a maximum document frequency of 95%, sublinear term frequency scaling, and removes English stop words. The function returns the transformed training and test features, as well as the fitted vectorizer.\n",
    "\n",
    "The select_features function takes the extracted features, the training labels, and the number of top features to select (default is 20,000) as input. It uses the chi-squared statistical test to select the most informative features and returns the selected features for both the training and test sets, along with the fitted selector object.\n",
    "\n",
    "I define a function called train_and_evaluate_model that takes the selected training features and labels as input. It initializes a logistic regression model with specific hyperparameters, such as the regularization strength (C=1.0), the multi-class strategy ('multinomial'), the solver ('saga'), and the maximum number of iterations (1000). The function then splits the training data into a smaller training set and a validation set using train_test_split with a test size of 20% and a fixed random state for reproducibility. It trains the model on the smaller training set and evaluates its performance on the validation set using accuracy and macro-averaged F1-score. The function prints the validation accuracy and F1-score and returns the trained model.\n",
    "\n",
    "# Results\n",
    "The model achieves a validation accuracy of 92.38% and a macro-averaged F1-score of 91.19%, indicating its effectiveness in distinguishing between the three categories of documents.\n",
    "# Code\n",
    "https://github.com/uazhlt-ms-program/grad-level-term-project-kaggle-competition-Ahmed8M\n"
   ]
  },
  {
   "cell_type": "code",
   "execution_count": null,
   "id": "04969930",
   "metadata": {},
   "outputs": [],
   "source": []
  }
 ],
 "metadata": {
  "kernelspec": {
   "display_name": "tadriib",
   "language": "python",
   "name": "tadriib"
  },
  "language_info": {
   "codemirror_mode": {
    "name": "ipython",
    "version": 3
   },
   "file_extension": ".py",
   "mimetype": "text/x-python",
   "name": "python",
   "nbconvert_exporter": "python",
   "pygments_lexer": "ipython3",
   "version": "3.11.5"
  }
 },
 "nbformat": 4,
 "nbformat_minor": 5
}
